{
 "cells": [
  {
   "cell_type": "markdown",
   "metadata": {},
   "source": [
    "#### Задание\n",
    "\n",
    "- Вывести распределение (количество) клиентов по сферам деятельности, отсортировав результат по убыванию количества. — (1 балл)\n",
    "- Найти сумму транзакций за каждый месяц по сферам деятельности, отсортировав по месяцам и по сфере деятельности. — (1 балл)\n",
    "- Вывести количество онлайн-заказов для всех брендов в рамках подтвержденных заказов клиентов из сферы IT. — (1 балл)\n",
    "- Найти по всем клиентам сумму всех транзакций (list_price), максимум, минимум и количество транзакций, отсортировав результат по убыванию суммы транзакций и количества клиентов.Выполните двумя способами: используя только group by и используя только оконные функции. Сравните результат. — (2 балла)\n",
    "- Найти имена и фамилии клиентов с минимальной/максимальной суммой транзакций за весь период (сумма транзакций не может быть null). Напишите отдельные запросы для минимальной и максимальной суммы. — (2 балла)\n",
    "- Вывести только самые первые транзакции клиентов. Решить с помощью оконных функций. — (1 балл)\n",
    "- Вывести имена, фамилии и профессии клиентов, между транзакциями которых был максимальный интервал (интервал вычисляется в днях) — (2 балла).\n",
    "\n",
    "Описание таблицы customer: (Поле Описание)\n",
    "- customer_id\tid клиента\n",
    "- first_name \tимя клиента\n",
    "- last_name \tфамилия клиента\n",
    "- gender \tпол\n",
    "- DOB \tдата рождения\n",
    "- job_title \tпрофессия\n",
    "- job_industry_category\tсфера деятельности\n",
    "- wealth_segment \tсегмент благосостояния\n",
    "- deceased_indicator \tфлаг актуального клиента\n",
    "- owns_car \tфлаг наличия автомобиля\n",
    "- address \tадрес проживания\n",
    "- postcode \tпочтовый индекс\n",
    "- state \tштаты\n",
    "- country \tстрана проживания\n",
    "- property_valuation\tоценка имущества\n",
    "\n",
    "Описание таблицы transaction: (Поле Описание)\n",
    "- transaction_id\tid транзакции\n",
    "- product_id\tid продукта\n",
    "- customer_id\tid клиента\n",
    "- transaction_date\tдата транзакции\n",
    "- online_order\tфлаг онлайн-заказа\n",
    "- order_status\tстатус транзакции\n",
    "- brand\tбренд\n",
    "- product_line\tлинейка продуктов\n",
    "- product_class\tкласс продукта\n",
    "- product_size\tразмер продукта\n",
    "- list_price\tцена\n",
    "- standard_cost\tстандартная стоимость"
   ]
  },
  {
   "cell_type": "code",
   "execution_count": null,
   "metadata": {
    "vscode": {
     "languageId": "sql"
    }
   },
   "outputs": [],
   "source": [
    "-- Вывести распределение (количество) клиентов по сферам деятельности, отсортировав результат по убыванию количества.\n",
    "\n",
    "select c.job_industry_category, count(*) as cust_count\n",
    "from customer c \n",
    "group by c.job_industry_category;"
   ]
  },
  {
   "cell_type": "markdown",
   "metadata": {},
   "source": [
    "![](1.png)"
   ]
  },
  {
   "cell_type": "code",
   "execution_count": null,
   "metadata": {
    "vscode": {
     "languageId": "sql"
    }
   },
   "outputs": [],
   "source": [
    "-- Найти сумму транзакций за каждый месяц по сферам деятельности, отсортировав по месяцам и по сфере деятельности.\n",
    "\n",
    "select date_part('month', to_date(t.transaction_date, 'dd.MM.yyyy')) as tran_month, c.job_industry_category as industry, sum(t.list_price) as tran_sum\n",
    "from \"transaction\" t join customer c on t.customer_id = c.customer_id \n",
    "group by date_part('month', to_date(t.transaction_date, 'dd.MM.yyyy')), c.job_industry_category \n",
    "order by tran_month, industry;"
   ]
  },
  {
   "cell_type": "markdown",
   "metadata": {},
   "source": [
    "![](2.png)"
   ]
  },
  {
   "cell_type": "code",
   "execution_count": null,
   "metadata": {
    "vscode": {
     "languageId": "sql"
    }
   },
   "outputs": [],
   "source": [
    "--Вывести количество онлайн-заказов для всех брендов в рамках подтвержденных заказов клиентов из сферы IT.\n",
    "\n",
    "select t.brand as brand, count(t.transaction_id) as tran_count\n",
    "from \"transaction\" t join customer c on t.customer_id = c.customer_id \n",
    "where t.online_order = 'true' and t.order_status = 'Approved' and c.job_industry_category = 'IT'\n",
    "group by t.brand\n",
    "order by brand;"
   ]
  },
  {
   "cell_type": "markdown",
   "metadata": {},
   "source": [
    "![](3.png)"
   ]
  },
  {
   "cell_type": "code",
   "execution_count": null,
   "metadata": {
    "vscode": {
     "languageId": "sql"
    }
   },
   "outputs": [],
   "source": [
    "-- Найти по всем клиентам сумму всех транзакций (list_price), максимум, минимум и количество транзакций, \n",
    "-- отсортировав результат по убыванию суммы транзакций и количества транзакций.\n",
    "-- Выполните двумя способами: используя только group by и используя только оконные функции. Сравните результат.\n",
    "\n",
    "-- с помощью группировки\n",
    "select c.customer_id as client\n",
    "    ,sum(t.list_price) as ttl_price\n",
    "    ,max(t.list_price) as max_price\n",
    "    ,min(t.list_price) as min_price\n",
    "    ,count(t.transaction_id) as tran_count  \n",
    "from \"transaction\" t join customer c on t.customer_id = c.customer_id \n",
    "group by c.customer_id\n",
    "order by ttl_price desc, tran_count desc;\n",
    "\n",
    "-- с помощью оконных функций\n",
    "select c.customer_id as client\n",
    "    ,sum(t.list_price) over(partition by c.customer_id) as ttl_price\n",
    "    ,max(t.list_price) over(partition by c.customer_id) as max_price\n",
    "    ,min(t.list_price) over(partition by c.customer_id) as min_price\n",
    "    ,count(t.transaction_id) over(partition by c.customer_id) as tran_count  \n",
    "from \"transaction\" t join customer c on t.customer_id = c.customer_id \n",
    "order by ttl_price desc, tran_count desc;"
   ]
  },
  {
   "cell_type": "markdown",
   "metadata": {},
   "source": [
    "- Вывод с помощью группировки содержит по одной строке для каждого клиента\n",
    "\n",
    "![](4_1.png)\n",
    "\n",
    "\n",
    "- Вывод с помощью оконных функций содержит дубли строк\n",
    "\n",
    "![](4_2.png)"
   ]
  },
  {
   "cell_type": "code",
   "execution_count": null,
   "metadata": {
    "vscode": {
     "languageId": "sql"
    }
   },
   "outputs": [],
   "source": [
    "-- Найти имена и фамилии клиентов с минимальной/максимальной суммой транзакций за весь период (сумма транзакций не может быть null). \n",
    "-- Напишите отдельные запросы для минимальной и максимальной суммы.\n",
    "\n",
    "-- с наименьшей ценой\n",
    "select distinct c.first_name, c.last_name\n",
    "from \"transaction\" t join customer c on t.customer_id = c.customer_id\n",
    "where t.list_price = (select min(list_price) from \"transaction\");\n",
    "\n",
    "-- с наибольшей ценой\n",
    "select distinct c.first_name, c.last_name\n",
    "from \"transaction\" t join customer c on t.customer_id = c.customer_id\n",
    "where t.list_price = (select max(list_price) from \"transaction\");"
   ]
  },
  {
   "cell_type": "markdown",
   "metadata": {},
   "source": [
    "- с наименьшей\n",
    "\n",
    "![](5_1.png)\n",
    "\n",
    "- с наибольшей\n",
    "\n",
    "![](5_2.png)"
   ]
  },
  {
   "cell_type": "code",
   "execution_count": null,
   "metadata": {
    "vscode": {
     "languageId": "sql"
    }
   },
   "outputs": [],
   "source": [
    "-- Вывести только самые первые транзакции клиентов. Решить с помощью оконных функций.\n",
    "\n",
    "select distinct c.first_name, c.last_name\n",
    "\t,first_value(t.*) over(partition by c.customer_id order by to_date(t.transaction_date, 'dd.MM.yyyy')) as fst_row\n",
    "from \"transaction\" t join customer c on t.customer_id = c.customer_id\n",
    "order by c.first_name, c.last_name;"
   ]
  },
  {
   "cell_type": "markdown",
   "metadata": {},
   "source": [
    "![](6.png)"
   ]
  },
  {
   "cell_type": "code",
   "execution_count": null,
   "metadata": {
    "vscode": {
     "languageId": "sql"
    }
   },
   "outputs": [],
   "source": [
    "-- Вывести имена, фамилии и профессии клиентов, между транзакциями которых был максимальный интервал (интервал вычисляется в днях)\n",
    "\n",
    "with trans as (\n",
    "\tselect c.first_name\n",
    "\t\t,c.last_name\n",
    "\t\t,c.job_title\n",
    "\t\t,to_date(t.transaction_date, 'dd.MM.yyyy') - \n",
    "\t\t\tlag(to_date(t.transaction_date, 'dd.MM.yyyy')) \n",
    "\t\t\t\tover(partition by c.customer_id order by to_date(t.transaction_date, 'dd.MM.yyyy')) as date_diff\n",
    "\tfrom \"transaction\" t join customer c on t.customer_id = c.customer_id\n",
    ")\n",
    "\n",
    "select *\n",
    "from trans\n",
    "where date_diff = (select max(date_diff) from trans);"
   ]
  },
  {
   "cell_type": "markdown",
   "metadata": {},
   "source": [
    "![](7.png)"
   ]
  }
 ],
 "metadata": {
  "language_info": {
   "name": "python"
  }
 },
 "nbformat": 4,
 "nbformat_minor": 2
}
